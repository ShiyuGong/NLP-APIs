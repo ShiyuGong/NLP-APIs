{
  "nbformat": 4,
  "nbformat_minor": 0,
  "metadata": {
    "colab": {
      "name": "HW9:NLP APIs.ipynb",
      "version": "0.3.2",
      "provenance": [],
      "collapsed_sections": [],
      "toc_visible": true,
      "include_colab_link": true
    },
    "kernelspec": {
      "name": "python3",
      "display_name": "Python 3"
    }
  },
  "cells": [
    {
      "cell_type": "markdown",
      "metadata": {
        "id": "view-in-github",
        "colab_type": "text"
      },
      "source": [
        "<a href=\"https://colab.research.google.com/github/ShiyuGong/NLP-APIs/blob/master/NLP_APIs_Sentiment_Analysis.ipynb\" target=\"_parent\"><img src=\"https://colab.research.google.com/assets/colab-badge.svg\" alt=\"Open In Colab\"/></a>"
      ]
    },
    {
      "metadata": {
        "id": "EsLUsv0NPGFA",
        "colab_type": "text"
      },
      "cell_type": "markdown",
      "source": [
        "## Objective\n",
        "\n",
        "Sentiment analysis is a subfield of NLP and could be applied systematically to identify, extract, quantify, and study affective states and subjective information. \n",
        "\n",
        "In this colab notebook, I would use the following two Cloud resources to did sentiment analysis for Yelp Review dataset.\n",
        "\n",
        "*   Google Cloud Natural Language API\n",
        "*   Amazon Comprehend API\n",
        "\n",
        "\n"
      ]
    },
    {
      "metadata": {
        "id": "aWp2ay0NRYr1",
        "colab_type": "text"
      },
      "cell_type": "markdown",
      "source": [
        "## Ingest\n",
        "\n",
        "The Yelp review dataset collected from Kaggle contains 10K records of Yelp reviews. Each of them has the stars (1-5) and text review provided by customers.\n",
        "\n",
        "data source: https://www.kaggle.com/omkarsabnis/yelp-reviews-dataset"
      ]
    },
    {
      "metadata": {
        "id": "6TB-g0K2MseL",
        "colab_type": "text"
      },
      "cell_type": "markdown",
      "source": [
        ""
      ]
    },
    {
      "metadata": {
        "id": "gnz_hSQRPEZ1",
        "colab_type": "code",
        "colab": {}
      },
      "cell_type": "code",
      "source": [
        "import pandas as pd"
      ],
      "execution_count": 0,
      "outputs": []
    },
    {
      "metadata": {
        "id": "64Nv3VW0zZJL",
        "colab_type": "code",
        "outputId": "e7c6bd15-51bf-4061-cd24-93f25fdcc045",
        "colab": {
          "base_uri": "https://localhost:8080/",
          "height": 34
        }
      },
      "cell_type": "code",
      "source": [
        "from google.colab import drive\n",
        "drive.mount('/content/gdrive', force_remount=True)"
      ],
      "execution_count": 0,
      "outputs": [
        {
          "output_type": "stream",
          "text": [
            "Mounted at /content/gdrive\n"
          ],
          "name": "stdout"
        }
      ]
    },
    {
      "metadata": {
        "id": "f_GF3xP1Rp1h",
        "colab_type": "code",
        "colab": {}
      },
      "cell_type": "code",
      "source": [
        "df = pd.read_csv(\"/content/gdrive/My Drive/MachineLearning/NLP/yelp.csv\")"
      ],
      "execution_count": 0,
      "outputs": []
    },
    {
      "metadata": {
        "id": "EpOkOT1GR7Ky",
        "colab_type": "code",
        "outputId": "40ed6da9-531a-4999-f0d4-8a7a465d7e72",
        "colab": {
          "base_uri": "https://localhost:8080/",
          "height": 683
        }
      },
      "cell_type": "code",
      "source": [
        "df.head()"
      ],
      "execution_count": 0,
      "outputs": [
        {
          "output_type": "execute_result",
          "data": {
            "text/html": [
              "<div>\n",
              "<style scoped>\n",
              "    .dataframe tbody tr th:only-of-type {\n",
              "        vertical-align: middle;\n",
              "    }\n",
              "\n",
              "    .dataframe tbody tr th {\n",
              "        vertical-align: top;\n",
              "    }\n",
              "\n",
              "    .dataframe thead th {\n",
              "        text-align: right;\n",
              "    }\n",
              "</style>\n",
              "<table border=\"1\" class=\"dataframe\">\n",
              "  <thead>\n",
              "    <tr style=\"text-align: right;\">\n",
              "      <th></th>\n",
              "      <th>business_id</th>\n",
              "      <th>date</th>\n",
              "      <th>review_id</th>\n",
              "      <th>stars</th>\n",
              "      <th>text</th>\n",
              "      <th>type</th>\n",
              "      <th>user_id</th>\n",
              "      <th>cool</th>\n",
              "      <th>useful</th>\n",
              "      <th>funny</th>\n",
              "    </tr>\n",
              "  </thead>\n",
              "  <tbody>\n",
              "    <tr>\n",
              "      <th>0</th>\n",
              "      <td>9yKzy9PApeiPPOUJEtnvkg</td>\n",
              "      <td>2011-01-26</td>\n",
              "      <td>fWKvX83p0-ka4JS3dc6E5A</td>\n",
              "      <td>5</td>\n",
              "      <td>My wife took me here on my birthday for breakf...</td>\n",
              "      <td>review</td>\n",
              "      <td>rLtl8ZkDX5vH5nAx9C3q5Q</td>\n",
              "      <td>2</td>\n",
              "      <td>5</td>\n",
              "      <td>0</td>\n",
              "    </tr>\n",
              "    <tr>\n",
              "      <th>1</th>\n",
              "      <td>ZRJwVLyzEJq1VAihDhYiow</td>\n",
              "      <td>2011-07-27</td>\n",
              "      <td>IjZ33sJrzXqU-0X6U8NwyA</td>\n",
              "      <td>5</td>\n",
              "      <td>I have no idea why some people give bad review...</td>\n",
              "      <td>review</td>\n",
              "      <td>0a2KyEL0d3Yb1V6aivbIuQ</td>\n",
              "      <td>0</td>\n",
              "      <td>0</td>\n",
              "      <td>0</td>\n",
              "    </tr>\n",
              "    <tr>\n",
              "      <th>2</th>\n",
              "      <td>6oRAC4uyJCsJl1X0WZpVSA</td>\n",
              "      <td>2012-06-14</td>\n",
              "      <td>IESLBzqUCLdSzSqm0eCSxQ</td>\n",
              "      <td>4</td>\n",
              "      <td>love the gyro plate. Rice is so good and I als...</td>\n",
              "      <td>review</td>\n",
              "      <td>0hT2KtfLiobPvh6cDC8JQg</td>\n",
              "      <td>0</td>\n",
              "      <td>1</td>\n",
              "      <td>0</td>\n",
              "    </tr>\n",
              "    <tr>\n",
              "      <th>3</th>\n",
              "      <td>_1QQZuf4zZOyFCvXc0o6Vg</td>\n",
              "      <td>2010-05-27</td>\n",
              "      <td>G-WvGaISbqqaMHlNnByodA</td>\n",
              "      <td>5</td>\n",
              "      <td>Rosie, Dakota, and I LOVE Chaparral Dog Park!!...</td>\n",
              "      <td>review</td>\n",
              "      <td>uZetl9T0NcROGOyFfughhg</td>\n",
              "      <td>1</td>\n",
              "      <td>2</td>\n",
              "      <td>0</td>\n",
              "    </tr>\n",
              "    <tr>\n",
              "      <th>4</th>\n",
              "      <td>6ozycU1RpktNG2-1BroVtw</td>\n",
              "      <td>2012-01-05</td>\n",
              "      <td>1uJFq2r5QfJG_6ExMRCaGw</td>\n",
              "      <td>5</td>\n",
              "      <td>General Manager Scott Petello is a good egg!!!...</td>\n",
              "      <td>review</td>\n",
              "      <td>vYmM4KTsC8ZfQBg-j5MWkw</td>\n",
              "      <td>0</td>\n",
              "      <td>0</td>\n",
              "      <td>0</td>\n",
              "    </tr>\n",
              "  </tbody>\n",
              "</table>\n",
              "</div>"
            ],
            "text/plain": [
              "              business_id        date               review_id  stars  \\\n",
              "0  9yKzy9PApeiPPOUJEtnvkg  2011-01-26  fWKvX83p0-ka4JS3dc6E5A      5   \n",
              "1  ZRJwVLyzEJq1VAihDhYiow  2011-07-27  IjZ33sJrzXqU-0X6U8NwyA      5   \n",
              "2  6oRAC4uyJCsJl1X0WZpVSA  2012-06-14  IESLBzqUCLdSzSqm0eCSxQ      4   \n",
              "3  _1QQZuf4zZOyFCvXc0o6Vg  2010-05-27  G-WvGaISbqqaMHlNnByodA      5   \n",
              "4  6ozycU1RpktNG2-1BroVtw  2012-01-05  1uJFq2r5QfJG_6ExMRCaGw      5   \n",
              "\n",
              "                                                text    type  \\\n",
              "0  My wife took me here on my birthday for breakf...  review   \n",
              "1  I have no idea why some people give bad review...  review   \n",
              "2  love the gyro plate. Rice is so good and I als...  review   \n",
              "3  Rosie, Dakota, and I LOVE Chaparral Dog Park!!...  review   \n",
              "4  General Manager Scott Petello is a good egg!!!...  review   \n",
              "\n",
              "                  user_id  cool  useful  funny  \n",
              "0  rLtl8ZkDX5vH5nAx9C3q5Q     2       5      0  \n",
              "1  0a2KyEL0d3Yb1V6aivbIuQ     0       0      0  \n",
              "2  0hT2KtfLiobPvh6cDC8JQg     0       1      0  \n",
              "3  uZetl9T0NcROGOyFfughhg     1       2      0  \n",
              "4  vYmM4KTsC8ZfQBg-j5MWkw     0       0      0  "
            ]
          },
          "metadata": {
            "tags": []
          },
          "execution_count": 24
        }
      ]
    },
    {
      "metadata": {
        "id": "WyNJA1BZSDPX",
        "colab_type": "code",
        "colab": {}
      },
      "cell_type": "code",
      "source": [
        "df.info()"
      ],
      "execution_count": 0,
      "outputs": []
    },
    {
      "metadata": {
        "id": "nCoTTExpTAVZ",
        "colab_type": "text"
      },
      "cell_type": "markdown",
      "source": [
        "## EDA"
      ]
    },
    {
      "metadata": {
        "id": "bCjkECo8VmZG",
        "colab_type": "code",
        "outputId": "def4800f-017e-46e3-ca2b-15e97f09ebc4",
        "colab": {
          "base_uri": "https://localhost:8080/",
          "height": 34
        }
      },
      "cell_type": "code",
      "source": [
        "df['business_id'].nunique()"
      ],
      "execution_count": 0,
      "outputs": [
        {
          "output_type": "execute_result",
          "data": {
            "text/plain": [
              "4174"
            ]
          },
          "metadata": {
            "tags": []
          },
          "execution_count": 11
        }
      ]
    },
    {
      "metadata": {
        "id": "9ismzK7qS0jf",
        "colab_type": "code",
        "outputId": "25841bb1-33a9-43cb-e651-9b024658dbce",
        "colab": {
          "base_uri": "https://localhost:8080/",
          "height": 119
        }
      },
      "cell_type": "code",
      "source": [
        "df[\"stars\"].value_counts()/df.shape[0]"
      ],
      "execution_count": 0,
      "outputs": [
        {
          "output_type": "execute_result",
          "data": {
            "text/plain": [
              "4    0.3526\n",
              "5    0.3337\n",
              "3    0.1461\n",
              "2    0.0927\n",
              "1    0.0749\n",
              "Name: stars, dtype: float64"
            ]
          },
          "metadata": {
            "tags": []
          },
          "execution_count": 12
        }
      ]
    },
    {
      "metadata": {
        "id": "hfE5QrOEV6bN",
        "colab_type": "text"
      },
      "cell_type": "markdown",
      "source": [
        "The above calculation gives us a first look on how the data spread. We can see that the rating tends to be relatively positive (68% of the ratings > = 4), which may be due to the fact that unhappy customers tend to just leave instead of making efforts to rate. "
      ]
    },
    {
      "metadata": {
        "id": "N6Pdc3WDW5bh",
        "colab_type": "text"
      },
      "cell_type": "markdown",
      "source": [
        "#### Find reviews with low ratings"
      ]
    },
    {
      "metadata": {
        "id": "-88RpzvXWWvn",
        "colab_type": "code",
        "outputId": "d5b6f149-aec1-4d02-80ca-1bde76e83777",
        "colab": {
          "base_uri": "https://localhost:8080/",
          "height": 119
        }
      },
      "cell_type": "code",
      "source": [
        "negative_reviews = df[df.stars == 1]\n",
        "negative_reviews[\"text\"].head()"
      ],
      "execution_count": 0,
      "outputs": [
        {
          "output_type": "execute_result",
          "data": {
            "text/plain": [
              "23    U can go there n check the car out. If u wanna...\n",
              "31    Disgusting!  Had a Groupon so my daughter and ...\n",
              "35    I've eaten here many times, but none as bad as...\n",
              "61    I have always been a fan of Burlington's deals...\n",
              "64    Another night meeting friends here.  I have to...\n",
              "Name: text, dtype: object"
            ]
          },
          "metadata": {
            "tags": []
          },
          "execution_count": 15
        }
      ]
    },
    {
      "metadata": {
        "id": "Dz1Jt-2LXBeN",
        "colab_type": "text"
      },
      "cell_type": "markdown",
      "source": [
        "#### Find reviews with high ratings"
      ]
    },
    {
      "metadata": {
        "id": "UqncyU54WpxO",
        "colab_type": "code",
        "outputId": "9ff198f6-c0cc-4443-d744-c8c11305102a",
        "colab": {
          "base_uri": "https://localhost:8080/",
          "height": 119
        }
      },
      "cell_type": "code",
      "source": [
        "negative_reviews = df[df.stars == 5]\n",
        "negative_reviews[\"text\"].head()"
      ],
      "execution_count": 0,
      "outputs": [
        {
          "output_type": "execute_result",
          "data": {
            "text/plain": [
              "0    My wife took me here on my birthday for breakf...\n",
              "1    I have no idea why some people give bad review...\n",
              "3    Rosie, Dakota, and I LOVE Chaparral Dog Park!!...\n",
              "4    General Manager Scott Petello is a good egg!!!...\n",
              "6    Drop what you're doing and drive here. After I...\n",
              "Name: text, dtype: object"
            ]
          },
          "metadata": {
            "tags": []
          },
          "execution_count": 16
        }
      ]
    },
    {
      "metadata": {
        "id": "LOCeASo3XGiQ",
        "colab_type": "text"
      },
      "cell_type": "markdown",
      "source": [
        "## Modeling\n",
        "\n",
        "In the modeling part, we would focus on the reviews whose stars are 1 to see whether the sentiment analysis would provide the same negative results based on the text data."
      ]
    },
    {
      "metadata": {
        "id": "pqmU-GEXboi_",
        "colab_type": "code",
        "outputId": "8e22de85-9bf4-4be2-be91-47daf478a093",
        "colab": {
          "base_uri": "https://localhost:8080/",
          "height": 34
        }
      },
      "cell_type": "code",
      "source": [
        "rating1 = df[df['stars']==1]\n",
        "rating1.shape"
      ],
      "execution_count": 0,
      "outputs": [
        {
          "output_type": "execute_result",
          "data": {
            "text/plain": [
              "(749, 10)"
            ]
          },
          "metadata": {
            "tags": []
          },
          "execution_count": 25
        }
      ]
    },
    {
      "metadata": {
        "id": "HnZchuVNxj-q",
        "colab_type": "text"
      },
      "cell_type": "markdown",
      "source": [
        "### GCP- Natural Language API"
      ]
    },
    {
      "metadata": {
        "id": "c2fBiHLohCPu",
        "colab_type": "text"
      },
      "cell_type": "markdown",
      "source": [
        "Sentiment analysis attempts to determine the overall attitude (positive or negative) expressed within the text. Sentiment is represented by numerical score and magnitude values.\n",
        "\n",
        "**Score of the sentiment ** ranges between -1.0 (negative) and 1.0 (positive) and corresponds to the overall emotional leaning of the text.\n",
        "\n",
        "**Magnitude** indicates the overall strength of emotion (both positive and negative) within the given text, between 0.0 and +inf. Unlike score, magnitude is not normalized; each expression of emotion within the text (both positive and negative) contributes to the text's magnitude (so longer text blocks may have greater magnitudes)."
      ]
    },
    {
      "metadata": {
        "id": "X0L6XMlNxcRq",
        "colab_type": "code",
        "colab": {}
      },
      "cell_type": "code",
      "source": [
        "import argparse\n",
        "\n",
        "# Imports the Google Cloud client library\n",
        "from google.cloud import language\n",
        "from google.cloud.language import enums\n",
        "from google.cloud.language import types"
      ],
      "execution_count": 0,
      "outputs": []
    },
    {
      "metadata": {
        "id": "btGtU_XzzfkX",
        "colab_type": "code",
        "outputId": "d34fe642-0b50-4371-a778-e63d588066a5",
        "colab": {
          "base_uri": "https://localhost:8080/",
          "height": 34
        }
      },
      "cell_type": "code",
      "source": [
        "import os;os.listdir(\"/content/gdrive/My Drive/awsml\")"
      ],
      "execution_count": 0,
      "outputs": [
        {
          "output_type": "execute_result",
          "data": {
            "text/plain": [
              "['config.txt', 'credentials.txt', 'cloudai-16c0b9420d70.json']"
            ]
          },
          "metadata": {
            "tags": []
          },
          "execution_count": 18
        }
      ]
    },
    {
      "metadata": {
        "id": "tcsVObgMzh0-",
        "colab_type": "code",
        "outputId": "ce40ff94-692c-4973-ddc5-59829a593299",
        "colab": {
          "base_uri": "https://localhost:8080/",
          "height": 85
        }
      },
      "cell_type": "code",
      "source": [
        "!ls -la /content/gdrive/My\\ Drive/awsml"
      ],
      "execution_count": 0,
      "outputs": [
        {
          "output_type": "stream",
          "text": [
            "total 4\n",
            "-rw------- 1 root root 2311 Mar  5 02:18 cloudai-16c0b9420d70.json\n",
            "-rw------- 1 root root   28 Jan  9 04:01 config.txt\n",
            "-rw------- 1 root root  113 Jan  9 04:26 credentials.txt\n"
          ],
          "name": "stdout"
        }
      ]
    },
    {
      "metadata": {
        "id": "xG7F2s3ezlRd",
        "colab_type": "code",
        "outputId": "2a7f7c47-32cb-49fe-b3d6-c377168a0864",
        "colab": {
          "base_uri": "https://localhost:8080/",
          "height": 54
        }
      },
      "cell_type": "code",
      "source": [
        "!export GOOGLE_APPLICATION_CREDENTIALS=\"/content/gdrive/My\\ Drive/awsml/cloudai-16c0b9420d70.json\"\n",
        "!gcloud auth activate-service-account --key-file /content/gdrive/My\\ Drive/awsml/cloudai-16c0b9420d70.json\n",
        "!pip install --upgrade -q google-cloud-vision"
      ],
      "execution_count": 0,
      "outputs": [
        {
          "output_type": "stream",
          "text": [
            "Activated service account credentials for: [cloudai@cloudai-233600.iam.gserviceaccount.com]\n"
          ],
          "name": "stdout"
        }
      ]
    },
    {
      "metadata": {
        "id": "gamnx3dG5rs7",
        "colab_type": "code",
        "colab": {}
      },
      "cell_type": "code",
      "source": [
        "# set up environment\n",
        "import os\n",
        "\n",
        "os.environ[\"GOOGLE_APPLICATION_CREDENTIALS\"]=\"/content/gdrive/My Drive/awsml/cloudai-16c0b9420d70.json\""
      ],
      "execution_count": 0,
      "outputs": []
    },
    {
      "metadata": {
        "id": "K6jA73QuZzmF",
        "colab_type": "text"
      },
      "cell_type": "markdown",
      "source": [
        "#### Example\n"
      ]
    },
    {
      "metadata": {
        "id": "KDQyc_qTz6r1",
        "colab_type": "code",
        "colab": {}
      },
      "cell_type": "code",
      "source": [
        "def analyze(movie_review_filename):\n",
        "    \"\"\"Run a sentiment analysis request on text within a passed filename.\"\"\"\n",
        "    client = language.LanguageServiceClient()\n",
        "\n",
        "    with open(movie_review_filename, 'r') as review_file:\n",
        "        # Instantiates a plain text document.\n",
        "        content = review_file.read()\n",
        "\n",
        "    document = types.Document(\n",
        "        content=content,\n",
        "        type=enums.Document.Type.PLAIN_TEXT)\n",
        "    annotations = client.analyze_sentiment(document=document)\n",
        "\n",
        "    # Print the results\n",
        "    print_result(annotations)"
      ],
      "execution_count": 0,
      "outputs": []
    },
    {
      "metadata": {
        "id": "M7CAjaG00H6z",
        "colab_type": "code",
        "colab": {}
      },
      "cell_type": "code",
      "source": [
        "def print_result(annotations):\n",
        "    score = annotations.document_sentiment.score\n",
        "    magnitude = annotations.document_sentiment.magnitude\n",
        "\n",
        "    for index, sentence in enumerate(annotations.sentences):\n",
        "        sentence_sentiment = sentence.sentiment.score\n",
        "        print('Sentence {} has a sentiment score of {}'.format(\n",
        "            index, sentence_sentiment))\n",
        "\n",
        "    print('Overall Sentiment: score of {} with magnitude of {}'.format(\n",
        "        score, magnitude))\n",
        "    return 0"
      ],
      "execution_count": 0,
      "outputs": []
    },
    {
      "metadata": {
        "id": "yFQX77eX3IH1",
        "colab_type": "code",
        "colab": {}
      },
      "cell_type": "code",
      "source": [
        "movie_review_filename = \"/content/gdrive/My Drive/MachineLearning/NLP/bladerunner-pos.txt\""
      ],
      "execution_count": 0,
      "outputs": []
    },
    {
      "metadata": {
        "id": "O2v30FX14H-i",
        "colab_type": "code",
        "outputId": "8a25c201-ee8b-4376-b8e5-66f5b51317fc",
        "colab": {
          "base_uri": "https://localhost:8080/",
          "height": 224
        }
      },
      "cell_type": "code",
      "source": [
        "analyze(movie_review_filename)"
      ],
      "execution_count": 0,
      "outputs": [
        {
          "output_type": "stream",
          "text": [
            "Sentence 0 has a sentiment score of 0.8999999761581421\n",
            "Sentence 1 has a sentiment score of 0.800000011920929\n",
            "Sentence 2 has a sentiment score of 0.699999988079071\n",
            "Sentence 3 has a sentiment score of 0.20000000298023224\n",
            "Sentence 4 has a sentiment score of 0.5\n",
            "Sentence 5 has a sentiment score of 0.0\n",
            "Sentence 6 has a sentiment score of 0.30000001192092896\n",
            "Sentence 7 has a sentiment score of 0.699999988079071\n",
            "Sentence 8 has a sentiment score of 0.699999988079071\n",
            "Sentence 9 has a sentiment score of 0.8999999761581421\n",
            "Overall Sentiment: score of 0.6000000238418579 with magnitude of 6.199999809265137\n"
          ],
          "name": "stdout"
        }
      ]
    },
    {
      "metadata": {
        "id": "33eoF1ZAhch4",
        "colab_type": "text"
      },
      "cell_type": "markdown",
      "source": [
        "The above example would indicate a review that was relatively positive (score of 0.6), and relatively emotional (magnitude of 6.2)."
      ]
    },
    {
      "metadata": {
        "id": "eRijJRgDdbSn",
        "colab_type": "text"
      },
      "cell_type": "markdown",
      "source": [
        "#### Yelp review"
      ]
    },
    {
      "metadata": {
        "id": "eTA2NtECYt0e",
        "colab_type": "code",
        "colab": {}
      },
      "cell_type": "code",
      "source": [
        "def create_sentiment_gcp(row):\n",
        "    \"\"\"Uses GCP Cloud NL to Create Sentiments on a DataFrame\"\"\"\n",
        "\n",
        "    try:\n",
        "      client = language.LanguageServiceClient()\n",
        "      document = types.Document(\n",
        "          content=row,\n",
        "          type=enums.Document.Type.PLAIN_TEXT)\n",
        "      sentiment = client.analyze_sentiment(document=document).document_sentiment\n",
        "      sentiment_score = sentiment.score\n",
        "\n",
        "    except Exception:\n",
        "      print(\"Size exceeded:  Fail\")\n",
        "      return None\n",
        "    return sentiment_score\n",
        "\n",
        "def apply_sentiment_gcp(df, column=\"text\"):\n",
        "    \"\"\"Uses Pandas Apply to Create Sentiment Analysis\"\"\"\n",
        "\n",
        "    df['Sentiment'] = df[column].apply(create_sentiment_gcp)\n",
        "    return df"
      ],
      "execution_count": 0,
      "outputs": []
    },
    {
      "metadata": {
        "id": "Z4LUVLhfb7Gl",
        "colab_type": "code",
        "outputId": "ae5ef335-6301-4522-f841-8280d27637fe",
        "colab": {
          "base_uri": "https://localhost:8080/",
          "height": 700
        }
      },
      "cell_type": "code",
      "source": [
        "rating1_senti_gcp = apply_sentiment_gcp(rating1)\n",
        "rating1_senti_gcp.head()"
      ],
      "execution_count": 0,
      "outputs": [
        {
          "output_type": "stream",
          "text": [
            "/usr/local/lib/python3.6/dist-packages/ipykernel_launcher.py:20: SettingWithCopyWarning: \n",
            "A value is trying to be set on a copy of a slice from a DataFrame.\n",
            "Try using .loc[row_indexer,col_indexer] = value instead\n",
            "\n",
            "See the caveats in the documentation: http://pandas.pydata.org/pandas-docs/stable/indexing.html#indexing-view-versus-copy\n"
          ],
          "name": "stderr"
        },
        {
          "output_type": "execute_result",
          "data": {
            "text/html": [
              "<div>\n",
              "<style scoped>\n",
              "    .dataframe tbody tr th:only-of-type {\n",
              "        vertical-align: middle;\n",
              "    }\n",
              "\n",
              "    .dataframe tbody tr th {\n",
              "        vertical-align: top;\n",
              "    }\n",
              "\n",
              "    .dataframe thead th {\n",
              "        text-align: right;\n",
              "    }\n",
              "</style>\n",
              "<table border=\"1\" class=\"dataframe\">\n",
              "  <thead>\n",
              "    <tr style=\"text-align: right;\">\n",
              "      <th></th>\n",
              "      <th>business_id</th>\n",
              "      <th>date</th>\n",
              "      <th>review_id</th>\n",
              "      <th>stars</th>\n",
              "      <th>text</th>\n",
              "      <th>type</th>\n",
              "      <th>user_id</th>\n",
              "      <th>cool</th>\n",
              "      <th>useful</th>\n",
              "      <th>funny</th>\n",
              "      <th>Sentiment</th>\n",
              "    </tr>\n",
              "  </thead>\n",
              "  <tbody>\n",
              "    <tr>\n",
              "      <th>23</th>\n",
              "      <td>IJ0o6b8bJFAbG6MjGfBebQ</td>\n",
              "      <td>2010-09-05</td>\n",
              "      <td>Dx9sfFU6Zn0GYOckijom-g</td>\n",
              "      <td>1</td>\n",
              "      <td>U can go there n check the car out. If u wanna...</td>\n",
              "      <td>review</td>\n",
              "      <td>zRlQEDYd_HKp0VS3hnAffA</td>\n",
              "      <td>0</td>\n",
              "      <td>1</td>\n",
              "      <td>1</td>\n",
              "      <td>-0.3</td>\n",
              "    </tr>\n",
              "    <tr>\n",
              "      <th>31</th>\n",
              "      <td>vvA3fbps4F9nGlAEYKk_sA</td>\n",
              "      <td>2012-05-04</td>\n",
              "      <td>S9OVpXat8k5YwWCn6FAgXg</td>\n",
              "      <td>1</td>\n",
              "      <td>Disgusting!  Had a Groupon so my daughter and ...</td>\n",
              "      <td>review</td>\n",
              "      <td>8AMn6644NmBf96xGO3w6OA</td>\n",
              "      <td>0</td>\n",
              "      <td>1</td>\n",
              "      <td>0</td>\n",
              "      <td>-0.6</td>\n",
              "    </tr>\n",
              "    <tr>\n",
              "      <th>35</th>\n",
              "      <td>o1GIYYZJjM6nM03fQs_uEQ</td>\n",
              "      <td>2011-11-30</td>\n",
              "      <td>ApKbwpYJdnhhgP4NbjQw2Q</td>\n",
              "      <td>1</td>\n",
              "      <td>I've eaten here many times, but none as bad as...</td>\n",
              "      <td>review</td>\n",
              "      <td>iwUN95LIaEr75TZE_JC6bg</td>\n",
              "      <td>0</td>\n",
              "      <td>4</td>\n",
              "      <td>3</td>\n",
              "      <td>-0.2</td>\n",
              "    </tr>\n",
              "    <tr>\n",
              "      <th>61</th>\n",
              "      <td>l4vBbCL9QbGiwLuLKwD_bA</td>\n",
              "      <td>2011-11-22</td>\n",
              "      <td>DJVxOfj2Rw9zklC9tU3i1w</td>\n",
              "      <td>1</td>\n",
              "      <td>I have always been a fan of Burlington's deals...</td>\n",
              "      <td>review</td>\n",
              "      <td>EPROVap0M19Y6_4uf3eCmQ</td>\n",
              "      <td>0</td>\n",
              "      <td>0</td>\n",
              "      <td>0</td>\n",
              "      <td>0.0</td>\n",
              "    </tr>\n",
              "    <tr>\n",
              "      <th>64</th>\n",
              "      <td>CEswyP-9SsXRNLR9fFGKKw</td>\n",
              "      <td>2012-05-19</td>\n",
              "      <td>GXj4PNAi095-q9ynPYH3kg</td>\n",
              "      <td>1</td>\n",
              "      <td>Another night meeting friends here.  I have to...</td>\n",
              "      <td>review</td>\n",
              "      <td>MjLAe48XNfYlTeFYca5gMw</td>\n",
              "      <td>0</td>\n",
              "      <td>1</td>\n",
              "      <td>2</td>\n",
              "      <td>-0.2</td>\n",
              "    </tr>\n",
              "  </tbody>\n",
              "</table>\n",
              "</div>"
            ],
            "text/plain": [
              "               business_id        date               review_id  stars  \\\n",
              "23  IJ0o6b8bJFAbG6MjGfBebQ  2010-09-05  Dx9sfFU6Zn0GYOckijom-g      1   \n",
              "31  vvA3fbps4F9nGlAEYKk_sA  2012-05-04  S9OVpXat8k5YwWCn6FAgXg      1   \n",
              "35  o1GIYYZJjM6nM03fQs_uEQ  2011-11-30  ApKbwpYJdnhhgP4NbjQw2Q      1   \n",
              "61  l4vBbCL9QbGiwLuLKwD_bA  2011-11-22  DJVxOfj2Rw9zklC9tU3i1w      1   \n",
              "64  CEswyP-9SsXRNLR9fFGKKw  2012-05-19  GXj4PNAi095-q9ynPYH3kg      1   \n",
              "\n",
              "                                                 text    type  \\\n",
              "23  U can go there n check the car out. If u wanna...  review   \n",
              "31  Disgusting!  Had a Groupon so my daughter and ...  review   \n",
              "35  I've eaten here many times, but none as bad as...  review   \n",
              "61  I have always been a fan of Burlington's deals...  review   \n",
              "64  Another night meeting friends here.  I have to...  review   \n",
              "\n",
              "                   user_id  cool  useful  funny  Sentiment  \n",
              "23  zRlQEDYd_HKp0VS3hnAffA     0       1      1       -0.3  \n",
              "31  8AMn6644NmBf96xGO3w6OA     0       1      0       -0.6  \n",
              "35  iwUN95LIaEr75TZE_JC6bg     0       4      3       -0.2  \n",
              "61  EPROVap0M19Y6_4uf3eCmQ     0       0      0        0.0  \n",
              "64  MjLAe48XNfYlTeFYca5gMw     0       1      2       -0.2  "
            ]
          },
          "metadata": {
            "tags": []
          },
          "execution_count": 27
        }
      ]
    },
    {
      "metadata": {
        "id": "ik0mQq95cuEC",
        "colab_type": "code",
        "outputId": "4abd9602-bc09-4adb-cb76-a21e5a185115",
        "colab": {
          "base_uri": "https://localhost:8080/",
          "height": 139
        }
      },
      "cell_type": "code",
      "source": [
        "def deter_positive(value):\n",
        "  if value > 0:return 'positive'\n",
        "  elif value == 0: return 'neutral'\n",
        "  elif value < 0: return 'negative'\n",
        "  \n",
        "rating1_senti_gcp['Sentiment_manually']=rating1_senti_gcp['Sentiment'].apply(lambda x:deter_positive(x))"
      ],
      "execution_count": 0,
      "outputs": [
        {
          "output_type": "stream",
          "text": [
            "/usr/local/lib/python3.6/dist-packages/ipykernel_launcher.py:6: SettingWithCopyWarning: \n",
            "A value is trying to be set on a copy of a slice from a DataFrame.\n",
            "Try using .loc[row_indexer,col_indexer] = value instead\n",
            "\n",
            "See the caveats in the documentation: http://pandas.pydata.org/pandas-docs/stable/indexing.html#indexing-view-versus-copy\n",
            "  \n"
          ],
          "name": "stderr"
        }
      ]
    },
    {
      "metadata": {
        "id": "vx_8agXKdRdm",
        "colab_type": "code",
        "outputId": "32277575-23a1-40fd-e891-30a22c125d2d",
        "colab": {
          "base_uri": "https://localhost:8080/",
          "height": 85
        }
      },
      "cell_type": "code",
      "source": [
        "rating1_senti_gcp['Sentiment_manually'].value_counts()"
      ],
      "execution_count": 0,
      "outputs": [
        {
          "output_type": "execute_result",
          "data": {
            "text/plain": [
              "negative    651\n",
              "neutral      83\n",
              "positive     15\n",
              "Name: Sentiment_binary, dtype: int64"
            ]
          },
          "metadata": {
            "tags": []
          },
          "execution_count": 29
        }
      ]
    },
    {
      "metadata": {
        "id": "mQcGh97cdVGs",
        "colab_type": "code",
        "outputId": "8b46323e-bdf6-4d3b-acb3-24ec2fdd3b1d",
        "colab": {
          "base_uri": "https://localhost:8080/",
          "height": 392
        }
      },
      "cell_type": "code",
      "source": [
        "rating1_senti_gcp['Sentiment_manually'].value_counts().plot.bar()"
      ],
      "execution_count": 0,
      "outputs": [
        {
          "output_type": "execute_result",
          "data": {
            "text/plain": [
              "<matplotlib.axes._subplots.AxesSubplot at 0x7f72f65b4630>"
            ]
          },
          "metadata": {
            "tags": []
          },
          "execution_count": 30
        },
        {
          "output_type": "display_data",
          "data": {
            "image/png": "[encoded data removed]",
            "text/plain": [
              "<Figure size 576x396 with 1 Axes>"
            ]
          },
          "metadata": {
            "tags": []
          }
        }
      ]
    },
    {
      "metadata": {
        "id": "7LeduoaSdzKM",
        "colab_type": "text"
      },
      "cell_type": "markdown",
      "source": [
        "### AWS Comprehend\n",
        "\n",
        "Inspects text and returns an inference of the prevailing sentiment (POSITIVE, NEUTRAL, MIXED, or NEGATIVE)"
      ]
    },
    {
      "metadata": {
        "id": "eK_1IUrue2QN",
        "colab_type": "text"
      },
      "cell_type": "markdown",
      "source": [
        "#### Install boto3"
      ]
    },
    {
      "metadata": {
        "id": "dYdPEuK-eS52",
        "colab_type": "code",
        "colab": {}
      },
      "cell_type": "code",
      "source": [
        "!pip -q install boto3"
      ],
      "execution_count": 0,
      "outputs": []
    },
    {
      "metadata": {
        "id": "17BGZqK_e_mI",
        "colab_type": "text"
      },
      "cell_type": "markdown",
      "source": [
        "#### Create API Config"
      ]
    },
    {
      "metadata": {
        "id": "BguOSW4YeiNV",
        "colab_type": "code",
        "colab": {}
      },
      "cell_type": "code",
      "source": [
        "!mkdir -p ~/.aws &&\\\n",
        "  cat /content/gdrive/My\\ Drive/awsml/credentials.txt > ~/.aws/credentials"
      ],
      "execution_count": 0,
      "outputs": []
    },
    {
      "metadata": {
        "id": "rGk2CmugfF0W",
        "colab_type": "text"
      },
      "cell_type": "markdown",
      "source": [
        "#### Test Comprehend API Call"
      ]
    },
    {
      "metadata": {
        "id": "kL38OOKGeoJ6",
        "colab_type": "code",
        "outputId": "d52846ea-99ae-4fc5-ffa2-5908641037ff",
        "colab": {
          "base_uri": "https://localhost:8080/",
          "height": 238
        }
      },
      "cell_type": "code",
      "source": [
        "import boto3\n",
        "comprehend = boto3.client(service_name='comprehend', region_name=\"us-east-1\")\n",
        "text = \"There is smoke in San Francisco and it makes me angry\"\n",
        "comprehend.detect_sentiment(Text=text, LanguageCode='en')"
      ],
      "execution_count": 0,
      "outputs": [
        {
          "output_type": "execute_result",
          "data": {
            "text/plain": [
              "{'ResponseMetadata': {'HTTPHeaders': {'connection': 'keep-alive',\n",
              "   'content-length': '164',\n",
              "   'content-type': 'application/x-amz-json-1.1',\n",
              "   'date': 'Wed, 06 Mar 2019 00:52:17 GMT',\n",
              "   'x-amzn-requestid': '17040402-3faa-11e9-89c1-1bb0e911a101'},\n",
              "  'HTTPStatusCode': 200,\n",
              "  'RequestId': '17040402-3faa-11e9-89c1-1bb0e911a101',\n",
              "  'RetryAttempts': 0},\n",
              " 'Sentiment': 'NEGATIVE',\n",
              " 'SentimentScore': {'Mixed': 0.010819978080689907,\n",
              "  'Negative': 0.9212133288383484,\n",
              "  'Neutral': 0.06721948087215424,\n",
              "  'Positive': 0.0007472822326235473}}"
            ]
          },
          "metadata": {
            "tags": []
          },
          "execution_count": 33
        }
      ]
    },
    {
      "metadata": {
        "id": "a_ap8lXhfNQG",
        "colab_type": "text"
      },
      "cell_type": "markdown",
      "source": [
        "#### Creating an Apply function"
      ]
    },
    {
      "metadata": {
        "id": "KNdWM4j2fPzE",
        "colab_type": "code",
        "colab": {}
      },
      "cell_type": "code",
      "source": [
        "def create_sentiment_aws(row):\n",
        "    \"\"\"Uses AWS Comprehend to Create Sentiments on a DataFrame\"\"\"\n",
        "\n",
        "    try:\n",
        "      comprehend = boto3.client(service_name='comprehend', region_name=\"us-east-2\")\n",
        "      payload = comprehend.detect_sentiment(Text=row, LanguageCode='en')  \n",
        "      sentiment = payload['Sentiment']\n",
        "    except Exception:\n",
        "      print(\"Size exceeded:  Fail\")\n",
        "      return None\n",
        "    return sentiment\n",
        "\n",
        "def apply_sentiment_aws(df, column=\"text\"):\n",
        "    \"\"\"Uses Pandas Apply to Create Sentiment Analysis\"\"\"\n",
        "\n",
        "    df['Sentiment'] = df[column].apply(create_sentiment_aws)\n",
        "    return df"
      ],
      "execution_count": 0,
      "outputs": []
    },
    {
      "metadata": {
        "id": "_ziep5v_gclV",
        "colab_type": "code",
        "outputId": "2a4a678c-3db0-4f44-c4c9-e3e624131f8d",
        "colab": {
          "base_uri": "https://localhost:8080/",
          "height": 717
        }
      },
      "cell_type": "code",
      "source": [
        "rating1_senti_aws = apply_sentiment_aws(rating1)\n",
        "rating1_senti_aws.head()"
      ],
      "execution_count": 0,
      "outputs": [
        {
          "output_type": "stream",
          "text": [
            "/usr/local/lib/python3.6/dist-packages/ipykernel_launcher.py:16: SettingWithCopyWarning: \n",
            "A value is trying to be set on a copy of a slice from a DataFrame.\n",
            "Try using .loc[row_indexer,col_indexer] = value instead\n",
            "\n",
            "See the caveats in the documentation: http://pandas.pydata.org/pandas-docs/stable/indexing.html#indexing-view-versus-copy\n",
            "  app.launch_new_instance()\n"
          ],
          "name": "stderr"
        },
        {
          "output_type": "execute_result",
          "data": {
            "text/html": [
              "<div>\n",
              "<style scoped>\n",
              "    .dataframe tbody tr th:only-of-type {\n",
              "        vertical-align: middle;\n",
              "    }\n",
              "\n",
              "    .dataframe tbody tr th {\n",
              "        vertical-align: top;\n",
              "    }\n",
              "\n",
              "    .dataframe thead th {\n",
              "        text-align: right;\n",
              "    }\n",
              "</style>\n",
              "<table border=\"1\" class=\"dataframe\">\n",
              "  <thead>\n",
              "    <tr style=\"text-align: right;\">\n",
              "      <th></th>\n",
              "      <th>business_id</th>\n",
              "      <th>date</th>\n",
              "      <th>review_id</th>\n",
              "      <th>stars</th>\n",
              "      <th>text</th>\n",
              "      <th>type</th>\n",
              "      <th>user_id</th>\n",
              "      <th>cool</th>\n",
              "      <th>useful</th>\n",
              "      <th>funny</th>\n",
              "      <th>Sentiment</th>\n",
              "      <th>Sentiment_binary</th>\n",
              "    </tr>\n",
              "  </thead>\n",
              "  <tbody>\n",
              "    <tr>\n",
              "      <th>23</th>\n",
              "      <td>IJ0o6b8bJFAbG6MjGfBebQ</td>\n",
              "      <td>2010-09-05</td>\n",
              "      <td>Dx9sfFU6Zn0GYOckijom-g</td>\n",
              "      <td>1</td>\n",
              "      <td>U can go there n check the car out. If u wanna...</td>\n",
              "      <td>review</td>\n",
              "      <td>zRlQEDYd_HKp0VS3hnAffA</td>\n",
              "      <td>0</td>\n",
              "      <td>1</td>\n",
              "      <td>1</td>\n",
              "      <td>NEGATIVE</td>\n",
              "      <td>negative</td>\n",
              "    </tr>\n",
              "    <tr>\n",
              "      <th>31</th>\n",
              "      <td>vvA3fbps4F9nGlAEYKk_sA</td>\n",
              "      <td>2012-05-04</td>\n",
              "      <td>S9OVpXat8k5YwWCn6FAgXg</td>\n",
              "      <td>1</td>\n",
              "      <td>Disgusting!  Had a Groupon so my daughter and ...</td>\n",
              "      <td>review</td>\n",
              "      <td>8AMn6644NmBf96xGO3w6OA</td>\n",
              "      <td>0</td>\n",
              "      <td>1</td>\n",
              "      <td>0</td>\n",
              "      <td>NEGATIVE</td>\n",
              "      <td>negative</td>\n",
              "    </tr>\n",
              "    <tr>\n",
              "      <th>35</th>\n",
              "      <td>o1GIYYZJjM6nM03fQs_uEQ</td>\n",
              "      <td>2011-11-30</td>\n",
              "      <td>ApKbwpYJdnhhgP4NbjQw2Q</td>\n",
              "      <td>1</td>\n",
              "      <td>I've eaten here many times, but none as bad as...</td>\n",
              "      <td>review</td>\n",
              "      <td>iwUN95LIaEr75TZE_JC6bg</td>\n",
              "      <td>0</td>\n",
              "      <td>4</td>\n",
              "      <td>3</td>\n",
              "      <td>NEGATIVE</td>\n",
              "      <td>negative</td>\n",
              "    </tr>\n",
              "    <tr>\n",
              "      <th>61</th>\n",
              "      <td>l4vBbCL9QbGiwLuLKwD_bA</td>\n",
              "      <td>2011-11-22</td>\n",
              "      <td>DJVxOfj2Rw9zklC9tU3i1w</td>\n",
              "      <td>1</td>\n",
              "      <td>I have always been a fan of Burlington's deals...</td>\n",
              "      <td>review</td>\n",
              "      <td>EPROVap0M19Y6_4uf3eCmQ</td>\n",
              "      <td>0</td>\n",
              "      <td>0</td>\n",
              "      <td>0</td>\n",
              "      <td>NEGATIVE</td>\n",
              "      <td>neutral</td>\n",
              "    </tr>\n",
              "    <tr>\n",
              "      <th>64</th>\n",
              "      <td>CEswyP-9SsXRNLR9fFGKKw</td>\n",
              "      <td>2012-05-19</td>\n",
              "      <td>GXj4PNAi095-q9ynPYH3kg</td>\n",
              "      <td>1</td>\n",
              "      <td>Another night meeting friends here.  I have to...</td>\n",
              "      <td>review</td>\n",
              "      <td>MjLAe48XNfYlTeFYca5gMw</td>\n",
              "      <td>0</td>\n",
              "      <td>1</td>\n",
              "      <td>2</td>\n",
              "      <td>NEUTRAL</td>\n",
              "      <td>negative</td>\n",
              "    </tr>\n",
              "  </tbody>\n",
              "</table>\n",
              "</div>"
            ],
            "text/plain": [
              "               business_id        date               review_id  stars  \\\n",
              "23  IJ0o6b8bJFAbG6MjGfBebQ  2010-09-05  Dx9sfFU6Zn0GYOckijom-g      1   \n",
              "31  vvA3fbps4F9nGlAEYKk_sA  2012-05-04  S9OVpXat8k5YwWCn6FAgXg      1   \n",
              "35  o1GIYYZJjM6nM03fQs_uEQ  2011-11-30  ApKbwpYJdnhhgP4NbjQw2Q      1   \n",
              "61  l4vBbCL9QbGiwLuLKwD_bA  2011-11-22  DJVxOfj2Rw9zklC9tU3i1w      1   \n",
              "64  CEswyP-9SsXRNLR9fFGKKw  2012-05-19  GXj4PNAi095-q9ynPYH3kg      1   \n",
              "\n",
              "                                                 text    type  \\\n",
              "23  U can go there n check the car out. If u wanna...  review   \n",
              "31  Disgusting!  Had a Groupon so my daughter and ...  review   \n",
              "35  I've eaten here many times, but none as bad as...  review   \n",
              "61  I have always been a fan of Burlington's deals...  review   \n",
              "64  Another night meeting friends here.  I have to...  review   \n",
              "\n",
              "                   user_id  cool  useful  funny Sentiment Sentiment_binary  \n",
              "23  zRlQEDYd_HKp0VS3hnAffA     0       1      1  NEGATIVE         negative  \n",
              "31  8AMn6644NmBf96xGO3w6OA     0       1      0  NEGATIVE         negative  \n",
              "35  iwUN95LIaEr75TZE_JC6bg     0       4      3  NEGATIVE         negative  \n",
              "61  EPROVap0M19Y6_4uf3eCmQ     0       0      0  NEGATIVE          neutral  \n",
              "64  MjLAe48XNfYlTeFYca5gMw     0       1      2   NEUTRAL         negative  "
            ]
          },
          "metadata": {
            "tags": []
          },
          "execution_count": 38
        }
      ]
    },
    {
      "metadata": {
        "id": "UtoywHmIiDZp",
        "colab_type": "code",
        "outputId": "cc961194-72d7-49bb-d5c7-1609afe35f71",
        "colab": {
          "base_uri": "https://localhost:8080/",
          "height": 102
        }
      },
      "cell_type": "code",
      "source": [
        "rating1_senti_aws['Sentiment'].value_counts()"
      ],
      "execution_count": 0,
      "outputs": [
        {
          "output_type": "execute_result",
          "data": {
            "text/plain": [
              "NEGATIVE    608\n",
              "POSITIVE     79\n",
              "NEUTRAL      44\n",
              "MIXED        18\n",
              "Name: Sentiment, dtype: int64"
            ]
          },
          "metadata": {
            "tags": []
          },
          "execution_count": 39
        }
      ]
    },
    {
      "metadata": {
        "id": "arYOGlKdiP33",
        "colab_type": "code",
        "outputId": "f4b5a3c3-2472-4e9c-ab3f-52cf4fff01d5",
        "colab": {
          "base_uri": "https://localhost:8080/",
          "height": 405
        }
      },
      "cell_type": "code",
      "source": [
        "rating1_senti_aws['Sentiment'].value_counts().plot.bar()"
      ],
      "execution_count": 0,
      "outputs": [
        {
          "output_type": "execute_result",
          "data": {
            "text/plain": [
              "<matplotlib.axes._subplots.AxesSubplot at 0x7f72f784f160>"
            ]
          },
          "metadata": {
            "tags": []
          },
          "execution_count": 40
        },
        {
          "output_type": "display_data",
          "data": {
            "image/png": "[encoded data removed]",
            "text/plain": [
              "<Figure size 576x396 with 1 Axes>"
            ]
          },
          "metadata": {
            "tags": []
          }
        }
      ]
    },
    {
      "metadata": {
        "id": "a5WRDgnoi2l2",
        "colab_type": "text"
      },
      "cell_type": "markdown",
      "source": [
        "# Conclusion"
      ]
    },
    {
      "metadata": {
        "id": "Jqw-K2R4YfcB",
        "colab_type": "text"
      },
      "cell_type": "markdown",
      "source": [
        "In this project, we practice how to use GCP- Natural Language API and AWS Comprehend API to conduct sentiment analysis for text reviews.\n",
        "\n",
        "Based on the results, in terms of 749 records whose stars equal to 1,  86.9% of records are labelled as negative by GCP and 81.2% by AWS.\n",
        "\n",
        "The differences between GCP and AWS sentiment analysis are as follows:\n",
        "\n",
        "\n",
        "1.   AWS Comprehend provides an inference of the prevailing sentiment (POSITIVE, NEUTRAL, MIXED, or NEGATIVE) directly. GCP Natural Language analyzeSentiment only provides *score of the sentiment* ranging between -1.0 (negative) and 1.0 (positive). If we want to get sentiment, we need to set the boundary score of each sentiment manually.\n",
        "\n",
        "2.  GCP Natural Language analyzeSentiment provides *magnitude* which indicates the overall strength of emotion within the given text, between 0.0 and +inf.\n",
        "\n",
        "\n",
        "\n",
        "\n",
        "\n",
        "\n"
      ]
    }
  ]
}